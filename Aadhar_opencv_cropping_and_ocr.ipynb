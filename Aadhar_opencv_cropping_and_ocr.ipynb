{
  "nbformat": 4,
  "nbformat_minor": 0,
  "metadata": {
    "colab": {
      "name": "Aadhar",
      "provenance": [],
      "authorship_tag": "ABX9TyMe1/uKFaMGtcmY4f9DLEbk",
      "include_colab_link": true
    },
    "kernelspec": {
      "name": "python3",
      "display_name": "Python 3"
    }
  },
  "cells": [
    {
      "cell_type": "markdown",
      "metadata": {
        "id": "view-in-github",
        "colab_type": "text"
      },
      "source": [
        "<a href=\"https://colab.research.google.com/github/hritik880/Custom-OCR-/blob/master/Aadhar_opencv_cropping_and_ocr.ipynb\" target=\"_parent\"><img src=\"https://colab.research.google.com/assets/colab-badge.svg\" alt=\"Open In Colab\"/></a>"
      ]
    },
    {
      "cell_type": "code",
      "metadata": {
        "id": "-d1-RfY35OH-",
        "colab_type": "code",
        "colab": {
          "base_uri": "https://localhost:8080/",
          "height": 125
        },
        "outputId": "3633e457-56ce-4275-bbcb-9783f5eebf90"
      },
      "source": [
        "from google.colab import drive\n",
        "drive.mount('/content/drive')"
      ],
      "execution_count": 1,
      "outputs": [
        {
          "output_type": "stream",
          "text": [
            "Go to this URL in a browser: https://accounts.google.com/o/oauth2/auth?client_id=947318989803-6bn6qk8qdgf4n4g3pfee6491hc0brc4i.apps.googleusercontent.com&redirect_uri=urn%3aietf%3awg%3aoauth%3a2.0%3aoob&response_type=code&scope=email%20https%3a%2f%2fwww.googleapis.com%2fauth%2fdocs.test%20https%3a%2f%2fwww.googleapis.com%2fauth%2fdrive%20https%3a%2f%2fwww.googleapis.com%2fauth%2fdrive.photos.readonly%20https%3a%2f%2fwww.googleapis.com%2fauth%2fpeopleapi.readonly\n",
            "\n",
            "Enter your authorization code:\n",
            "··········\n",
            "Mounted at /content/drive\n"
          ],
          "name": "stdout"
        }
      ]
    },
    {
      "cell_type": "code",
      "metadata": {
        "id": "ioh6jaFCS87t",
        "colab_type": "code",
        "colab": {
          "base_uri": "https://localhost:8080/",
          "height": 899
        },
        "outputId": "3e063695-e0c6-4913-c1b2-b29a8cb28234"
      },
      "source": [
        "!pip install pillow\n",
        "!pip install pytesseract\n",
        "!sudo apt install tesseract-ocr"
      ],
      "execution_count": 2,
      "outputs": [
        {
          "output_type": "stream",
          "text": [
            "Requirement already satisfied: pillow in /usr/local/lib/python3.6/dist-packages (7.0.0)\n",
            "Collecting pytesseract\n",
            "  Downloading https://files.pythonhosted.org/packages/1d/d8/521db389ff0aae32035bfda6ed39cb2c2e28521c47015f6431f07460c50a/pytesseract-0.3.4.tar.gz\n",
            "Requirement already satisfied: Pillow in /usr/local/lib/python3.6/dist-packages (from pytesseract) (7.0.0)\n",
            "Building wheels for collected packages: pytesseract\n",
            "  Building wheel for pytesseract (setup.py) ... \u001b[?25l\u001b[?25hdone\n",
            "  Created wheel for pytesseract: filename=pytesseract-0.3.4-py2.py3-none-any.whl size=13431 sha256=381f03a58a98381ad4e5012e7b103e204c03a152d2787d29ae4abab166f10df3\n",
            "  Stored in directory: /root/.cache/pip/wheels/63/2a/a0/7596d2e0a73cf0aeffd6f6170862c4e73f3763b7827e48691a\n",
            "Successfully built pytesseract\n",
            "Installing collected packages: pytesseract\n",
            "Successfully installed pytesseract-0.3.4\n",
            "Reading package lists... Done\n",
            "Building dependency tree       \n",
            "Reading state information... Done\n",
            "The following package was automatically installed and is no longer required:\n",
            "  libnvidia-common-440\n",
            "Use 'sudo apt autoremove' to remove it.\n",
            "The following additional packages will be installed:\n",
            "  tesseract-ocr-eng tesseract-ocr-osd\n",
            "The following NEW packages will be installed:\n",
            "  tesseract-ocr tesseract-ocr-eng tesseract-ocr-osd\n",
            "0 upgraded, 3 newly installed, 0 to remove and 33 not upgraded.\n",
            "Need to get 4,795 kB of archives.\n",
            "After this operation, 15.8 MB of additional disk space will be used.\n",
            "Get:1 http://archive.ubuntu.com/ubuntu bionic/universe amd64 tesseract-ocr-eng all 4.00~git24-0e00fe6-1.2 [1,588 kB]\n",
            "Get:2 http://archive.ubuntu.com/ubuntu bionic/universe amd64 tesseract-ocr-osd all 4.00~git24-0e00fe6-1.2 [2,989 kB]\n",
            "Get:3 http://archive.ubuntu.com/ubuntu bionic/universe amd64 tesseract-ocr amd64 4.00~git2288-10f4998a-2 [218 kB]\n",
            "Fetched 4,795 kB in 0s (27.8 MB/s)\n",
            "debconf: unable to initialize frontend: Dialog\n",
            "debconf: (No usable dialog-like program is installed, so the dialog based frontend cannot be used. at /usr/share/perl5/Debconf/FrontEnd/Dialog.pm line 76, <> line 3.)\n",
            "debconf: falling back to frontend: Readline\n",
            "debconf: unable to initialize frontend: Readline\n",
            "debconf: (This frontend requires a controlling tty.)\n",
            "debconf: falling back to frontend: Teletype\n",
            "dpkg-preconfigure: unable to re-open stdin: \n",
            "Selecting previously unselected package tesseract-ocr-eng.\n",
            "(Reading database ... 144379 files and directories currently installed.)\n",
            "Preparing to unpack .../tesseract-ocr-eng_4.00~git24-0e00fe6-1.2_all.deb ...\n",
            "Unpacking tesseract-ocr-eng (4.00~git24-0e00fe6-1.2) ...\n",
            "Selecting previously unselected package tesseract-ocr-osd.\n",
            "Preparing to unpack .../tesseract-ocr-osd_4.00~git24-0e00fe6-1.2_all.deb ...\n",
            "Unpacking tesseract-ocr-osd (4.00~git24-0e00fe6-1.2) ...\n",
            "Selecting previously unselected package tesseract-ocr.\n",
            "Preparing to unpack .../tesseract-ocr_4.00~git2288-10f4998a-2_amd64.deb ...\n",
            "Unpacking tesseract-ocr (4.00~git2288-10f4998a-2) ...\n",
            "Setting up tesseract-ocr-osd (4.00~git24-0e00fe6-1.2) ...\n",
            "Setting up tesseract-ocr-eng (4.00~git24-0e00fe6-1.2) ...\n",
            "Setting up tesseract-ocr (4.00~git2288-10f4998a-2) ...\n",
            "Processing triggers for man-db (2.8.3-2ubuntu0.1) ...\n"
          ],
          "name": "stdout"
        }
      ]
    },
    {
      "cell_type": "code",
      "metadata": {
        "id": "Np2T4wtT2QQp",
        "colab_type": "code",
        "colab": {
          "base_uri": "https://localhost:8080/",
          "height": 1000
        },
        "outputId": "8d451f6e-e94f-4933-ad56-2ae8ee7071c9"
      },
      "source": [
        "!unzip /content/drive/'My Drive'/data_for_colab.zip"
      ],
      "execution_count": 3,
      "outputs": [
        {
          "output_type": "stream",
          "text": [
            "Archive:  /content/drive/My Drive/data_for_colab.zip\n",
            "   creating: data_for_colab/\n",
            "  inflating: data_for_colab/.DS_Store  \n",
            "   creating: data_for_colab/data/\n",
            "  inflating: data_for_colab/data/a1.png  \n",
            "  inflating: data_for_colab/data/a1.txt  \n",
            "  inflating: data_for_colab/data/a10.png  \n",
            "  inflating: data_for_colab/data/a10.txt  \n",
            "  inflating: data_for_colab/data/a11.png  \n",
            "  inflating: data_for_colab/data/a11.txt  \n",
            "  inflating: data_for_colab/data/a12.png  \n",
            "  inflating: data_for_colab/data/a12.txt  \n",
            "  inflating: data_for_colab/data/a13.png  \n",
            "  inflating: data_for_colab/data/a13.txt  \n",
            "  inflating: data_for_colab/data/a14.png  \n",
            "  inflating: data_for_colab/data/a14.txt  \n",
            "  inflating: data_for_colab/data/a15.png  \n",
            "  inflating: data_for_colab/data/a15.txt  \n",
            "  inflating: data_for_colab/data/a16.png  \n",
            "  inflating: data_for_colab/data/a16.txt  \n",
            "  inflating: data_for_colab/data/a17.png  \n",
            "  inflating: data_for_colab/data/a17.txt  \n",
            "  inflating: data_for_colab/data/a18.png  \n",
            "  inflating: data_for_colab/data/a18.txt  \n",
            "  inflating: data_for_colab/data/a19.png  \n",
            "  inflating: data_for_colab/data/a19.txt  \n",
            "  inflating: data_for_colab/data/a2.png  \n",
            "  inflating: data_for_colab/data/a2.txt  \n",
            "  inflating: data_for_colab/data/a20.png  \n",
            "  inflating: data_for_colab/data/a20.txt  \n",
            "  inflating: data_for_colab/data/a21.png  \n",
            "  inflating: data_for_colab/data/a21.txt  \n",
            "  inflating: data_for_colab/data/a22.png  \n",
            "  inflating: data_for_colab/data/a22.txt  \n",
            "  inflating: data_for_colab/data/a23.png  \n",
            "  inflating: data_for_colab/data/a23.txt  \n",
            "  inflating: data_for_colab/data/a24.png  \n",
            "  inflating: data_for_colab/data/a24.txt  \n",
            "  inflating: data_for_colab/data/a25.png  \n",
            "  inflating: data_for_colab/data/a25.txt  \n",
            "  inflating: data_for_colab/data/a26.png  \n",
            "  inflating: data_for_colab/data/a26.txt  \n",
            "  inflating: data_for_colab/data/a27.png  \n",
            "  inflating: data_for_colab/data/a27.txt  \n",
            "  inflating: data_for_colab/data/a28.png  \n",
            "  inflating: data_for_colab/data/a28.txt  \n",
            "  inflating: data_for_colab/data/a29.png  \n",
            "  inflating: data_for_colab/data/a29.txt  \n",
            "  inflating: data_for_colab/data/a3.png  \n",
            "  inflating: data_for_colab/data/a3.txt  \n",
            "  inflating: data_for_colab/data/a30.png  \n",
            "  inflating: data_for_colab/data/a30.txt  \n",
            "  inflating: data_for_colab/data/a31.png  \n",
            "  inflating: data_for_colab/data/a31.txt  \n",
            "  inflating: data_for_colab/data/a32.png  \n",
            "  inflating: data_for_colab/data/a32.txt  \n",
            "  inflating: data_for_colab/data/a4.png  \n",
            "  inflating: data_for_colab/data/a4.txt  \n",
            "  inflating: data_for_colab/data/a5.png  \n",
            "  inflating: data_for_colab/data/a5.txt  \n",
            "  inflating: data_for_colab/data/a6.png  \n",
            "  inflating: data_for_colab/data/a6.txt  \n",
            "  inflating: data_for_colab/data/a7.png  \n",
            "  inflating: data_for_colab/data/a7.txt  \n",
            "  inflating: data_for_colab/data/a8.png  \n",
            "  inflating: data_for_colab/data/a8.txt  \n",
            "  inflating: data_for_colab/data/a9.png  \n",
            "  inflating: data_for_colab/data/a9.txt  \n",
            "  inflating: data_for_colab/data/classes.txt  \n",
            "  inflating: data_for_colab/obj.data  \n",
            "  inflating: data_for_colab/obj.names  \n",
            "  inflating: data_for_colab/test.txt  \n",
            "  inflating: data_for_colab/train.txt  \n",
            "  inflating: data_for_colab/yolov3-tiny-obj.cfg  \n",
            "  inflating: data_for_colab/yolov3-tiny.conv.15  \n",
            "  inflating: data_for_colab/yolov3.cfg  \n"
          ],
          "name": "stdout"
        }
      ]
    },
    {
      "cell_type": "code",
      "metadata": {
        "id": "QlvVNXYYeysm",
        "colab_type": "code",
        "colab": {}
      },
      "source": [
        "!cp /content/drive/'My Drive'/classes.txt /content/data_for_colab"
      ],
      "execution_count": 4,
      "outputs": []
    },
    {
      "cell_type": "code",
      "metadata": {
        "id": "aRb5yWzb6RXp",
        "colab_type": "code",
        "colab": {}
      },
      "source": [
        "import cv2\n",
        "import numpy as np\n",
        "import pytesseract\n",
        "import pandas as pd\n",
        "from google.colab.patches import cv2_imshow\n",
        "def get_output_layers(net):\n",
        "    \n",
        "    layer_names = net.getLayerNames()\n",
        "    \n",
        "    output_layers = [layer_names[i[0] - 1] for i in net.getUnconnectedOutLayers()]\n",
        "\n",
        "    return output_layers"
      ],
      "execution_count": 5,
      "outputs": []
    },
    {
      "cell_type": "code",
      "metadata": {
        "id": "R3Qn6-3uz7oe",
        "colab_type": "code",
        "colab": {}
      },
      "source": [
        "def draw_prediction(img, class_id, confidence, x, y, x_plus_w, y_plus_h):\n",
        "\n",
        "    label = str(classes[class_id])\n",
        "\n",
        "    color = COLORS[class_id]\n",
        "\n",
        "    cv2.rectangle(img, (x,y), (x_plus_w,y_plus_h), color, 2)\n",
        "\n",
        "    cv2.putText(img, label, (x-10,y-10), cv2.FONT_HERSHEY_SIMPLEX, 0.5, color, 2)\n"
      ],
      "execution_count": 6,
      "outputs": []
    },
    {
      "cell_type": "code",
      "metadata": {
        "id": "KNdTWIIB0AVB",
        "colab_type": "code",
        "colab": {}
      },
      "source": [
        "from PIL import Image\n",
        "weights_path = '/content/drive/My Drive/yolov3_7000.weights'\n",
        "config_path = '/content/data_for_colab/yolov3.cfg'\n",
        "classes_path = '/content/data_for_colab/classes.txt'\n",
        "data = []\n",
        "\n",
        "for j in range(1,4):\n",
        "  aadhar_data = {}\n",
        "  image_path = '/content/data_for_colab/data/a%s.png'%j\n",
        "  image = cv2.imread(image_path)\n",
        "  # cv2_imshow(image) \n",
        "  Width = image.shape[1]\n",
        "  Height = image.shape[0]\n",
        "  scale = 0.00392\n",
        "\n",
        "  classes = None\n",
        "\n",
        "  with open(classes_path, 'r') as f:\n",
        "      classes = [line.strip() for line in f.readlines()]\n",
        "\n",
        "  COLORS = np.random.uniform(0, 255, size=(len(classes), 3))\n",
        "\n",
        "  net = cv2.dnn.readNet(weights_path, config_path)\n",
        "\n",
        "  blob = cv2.dnn.blobFromImage(image, scale, (416,416), (0,0,0), True, crop=False)\n",
        "\n",
        "  net.setInput(blob)\n",
        "\n",
        "  outs = net.forward(get_output_layers(net))\n",
        "\n",
        "  class_ids = []\n",
        "  confidences = []\n",
        "  boxes = []\n",
        "  conf_threshold = 0.5\n",
        "  nms_threshold = 0.4\n",
        "\n",
        "\n",
        "  for out in outs:\n",
        "      for detection in out:\n",
        "          scores = detection[5:]\n",
        "          class_id = np.argmax(scores)\n",
        "          confidence = scores[class_id]\n",
        "          if confidence > 0.5:\n",
        "              center_x = int(detection[0] * Width)\n",
        "              center_y = int(detection[1] * Height)\n",
        "              w = int(detection[2] * Width)\n",
        "              h = int(detection[3] * Height)\n",
        "              x = center_x - w / 2\n",
        "              y = center_y - h / 2\n",
        "              class_ids.append(class_id)\n",
        "              confidences.append(float(confidence))\n",
        "              boxes.append([x, y, w, h])\n",
        "\n",
        "  im_pil = Image.fromarray(image)\n",
        "\n",
        "  indices = cv2.dnn.NMSBoxes(boxes, confidences, conf_threshold, nms_threshold)\n",
        "\n",
        "  for i in indices:\n",
        "      i = i[0]\n",
        "      box = boxes[i]\n",
        "      x = box[0]\n",
        "      y = box[1]\n",
        "      w = box[2]\n",
        "      h = box[3]\n",
        "      #draw_prediction(image, class_ids[i], confidences[i], round(x), round(y), round(x+w), round(y+h))\n",
        "      cropped_img = im_pil.crop((x,y,x+w,y+h))\n",
        "      im_np = np.asarray(cropped_img)\n",
        "      sharpen_kernel = np.array([[-1,-1,-1], [-1,9,-1], [-1,-1,-1]])\n",
        "      img = cv2.filter2D(im_np, -1, sharpen_kernel)\n",
        "      scale_percent =300 # percent of original size\n",
        "      width = int(img.shape[1] * scale_percent / 100) \n",
        "      height = int(img.shape[0] * scale_percent / 100)\n",
        "      dim = (width, height)\n",
        "      img = cv2.cvtColor(img, cv2.COLOR_BGR2GRAY)\n",
        "      text = pytesseract.image_to_string(img)\n",
        "      if(class_ids[i]==0):\n",
        "        aadhar_data['Name'] = text\n",
        "      elif(class_ids[i]==1):\n",
        "        aadhar_data['DOB'] = text\n",
        "      elif(class_ids[i]==2):\n",
        "        aadhar_data['Gender'] = text\n",
        "      else:\n",
        "        aadhar_data['Aadhar'] = text\n",
        "      # cv2_imshow(img) #uncomment cv2_imshow if you want to see cropped image\n",
        "      # cv2.waitKey()\n",
        "  data.append(aadhar_data)\n",
        "dataFrame = pd.DataFrame.from_dict(data)\n",
        "dataFrame.to_csv('aadhar_data_sharpen.csv', index=False)\n"
      ],
      "execution_count": 21,
      "outputs": []
    },
    {
      "cell_type": "code",
      "metadata": {
        "id": "xFRe9skrTltc",
        "colab_type": "code",
        "colab": {}
      },
      "source": [
        ""
      ],
      "execution_count": null,
      "outputs": []
    }
  ]
}